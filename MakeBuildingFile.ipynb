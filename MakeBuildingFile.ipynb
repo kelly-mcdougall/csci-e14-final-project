{
 "cells": [
  {
   "cell_type": "code",
   "execution_count": 1,
   "metadata": {
    "pycharm": {
     "is_executing": false
    }
   },
   "outputs": [
    {
     "name": "stderr",
     "text": [
      "/Users/gabor/Projects/OurHome/venv/lib/python3.6/site-packages/IPython/core/interactiveshell.py:3058: DtypeWarning: Columns (7,22) have mixed types. Specify dtype option on import or set low_memory=False.\n  interactivity=interactivity, compiler=compiler, result=result)\n"
     ],
     "output_type": "stream"
    }
   ],
   "source": [
    "import math\n",
    "import pandas as pd\n",
    "import numpy as np\n",
    "df = pd.read_csv('condo_res_join_v1.csv');\n",
    "df_last = df[:100000]\n",
    "\n",
    "df_buildings = df_last[\n",
    "    ['PID',\n",
    "     'ST_NUM',\n",
    "    'ST_NAME',\n",
    "    'ST_NAME_SUF',\n",
    "    'UNIT_NUM',\n",
    "    'ZIPCODE']\n",
    "]\n"
   ]
  },
  {
   "cell_type": "code",
   "execution_count": 2,
   "metadata": {
    "pycharm": {
     "is_executing": false,
     "name": "#%%\n"
    }
   },
   "outputs": [
    {
     "name": "stdout",
     "text": [
      "Empty: 175 NonNumeric:11267\n"
     ],
     "output_type": "stream"
    },
    {
     "name": "stderr",
     "text": [
      "/Users/gabor/Projects/OurHome/venv/lib/python3.6/site-packages/ipykernel_launcher.py:48: SettingWithCopyWarning: \nA value is trying to be set on a copy of a slice from a DataFrame.\nTry using .loc[row_indexer,col_indexer] = value instead\n\nSee the caveats in the documentation: http://pandas.pydata.org/pandas-docs/stable/user_guide/indexing.html#returning-a-view-versus-a-copy\n"
     ],
     "output_type": "stream"
    }
   ],
   "source": [
    "def reformat_building_number(bldg):\n",
    "    if bldg.count(' -') == 1:\n",
    "        return bldg.replace(' -','-')\n",
    "    if bldg == '12-Nov':\n",
    "        return '11-12'\n",
    "    if bldg == '10-Sep':\n",
    "        return '9-10'\n",
    "    if bldg == '10-Feb':\n",
    "        return '2-10'\n",
    "    if bldg == '  18-20':\n",
    "        return '18-20'\n",
    "    if bldg == '37 A 37C':\n",
    "        return '37A-37C'\n",
    "    if bldg == '4-Feb':\n",
    "        return '2-4'\n",
    "    if bldg == '12-Aug':\n",
    "        return '8-12'\n",
    "    if bldg == '14-Dec':\n",
    "        return '12-14'\n",
    "    if bldg == '7-Jan':\n",
    "        return '1-7'\n",
    "    if bldg == '10-Feb':\n",
    "        return '2-10'\n",
    "    if bldg == '7-Jan':\n",
    "        return '1-7'\n",
    "    if bldg == '7-May':\n",
    "        return '5-7'\n",
    "    if bldg == '10-Aug':\n",
    "        return '8-10'\n",
    "    if bldg == '3-Jan':\n",
    "        return '1-3'\n",
    "    if bldg == '12-Oct':\n",
    "        return '10-12'\n",
    "    if bldg == '5-Mar':\n",
    "        return '3-5'\n",
    "    if bldg == '9-Jul':\n",
    "        return '7-9'\n",
    "    if bldg == '4-Mar':\n",
    "        return '3-4'\n",
    "    if bldg == '11-Sep':\n",
    "        return '9-11'\n",
    "    if bldg == '2-Jan':\n",
    "        return '1-2'\n",
    "    if bldg.count(' ') == 1:\n",
    "        return bldg.replace(' ','-')\n",
    "    return bldg\n",
    "\n",
    "df_buildings['ST_NUM'] = df_buildings.apply(lambda row: reformat_building_number(row['ST_NUM']), axis=1)\n",
    "\n",
    "fixable=0\n",
    "iempty=0\n",
    "counter=0\n",
    "nnum=0\n",
    "for bldg_num in df_buildings['ST_NUM']:\n",
    "    if not bldg_num or bldg_num == '' or bldg_num.count(' ') == len(bldg_num):\n",
    "        iempty += 1\n",
    "        continue\n",
    "    if bldg_num.count(' ') == 1 or bldg_num.count(' - ') == 1:\n",
    "        fixable += 1\n",
    "    else:\n",
    "        if bldg_num in ['  60R','4-Aug','6-Feb','6-Apr','8-Jun','13-Nov','18-Oct',\n",
    "                        '11-Jan', '8-Jan','14-Aug',]:\n",
    "            fixable += 1\n",
    "            continue\n",
    "            \n",
    "        if bldg_num.isnumeric():\n",
    "            counter += 1\n",
    "        else:\n",
    "            nnum += 1\n",
    "            # print(\"{} {} \".format(bldg_num, bldg_num.count(' ')))\n",
    "\n",
    "print(\"Empty: {} NonNumeric:{}\".format(iempty, nnum))\n"
   ]
  },
  {
   "cell_type": "code",
   "execution_count": 3,
   "metadata": {
    "pycharm": {
     "is_executing": false
    }
   },
   "outputs": [
    {
     "name": "stderr",
     "text": [
      "/Users/gabor/Projects/OurHome/venv/lib/python3.6/site-packages/ipykernel_launcher.py:5: SettingWithCopyWarning: \nA value is trying to be set on a copy of a slice from a DataFrame.\nTry using .loc[row_indexer,col_indexer] = value instead\n\nSee the caveats in the documentation: http://pandas.pydata.org/pandas-docs/stable/user_guide/indexing.html#returning-a-view-versus-a-copy\n  \"\"\"\n"
     ],
     "output_type": "stream"
    }
   ],
   "source": [
    "# Fix the name suffix, from NaN (which is float) to string\n",
    "# Roads like \"Riverway\" and \"Broadway\" don't have suffix\n",
    "# designation, so it is just better to leave it off, while\n",
    "# cleaning large amounts of data.\n",
    "df_buildings['ST_NAME_SUF'] = df_buildings.apply(lambda r: '' if isinstance(r['ST_NAME_SUF'], float) else r['ST_NAME_SUF'] , axis=1)"
   ]
  },
  {
   "cell_type": "code",
   "execution_count": null,
   "metadata": {
    "pycharm": {
     "is_executing": true
    }
   },
   "outputs": [],
   "source": [
    "# Zip should be a 0 filled, left pad string of the original \n",
    "# number, and not a float.\n",
    "df_buildings['Zip'] = df_buildings.apply(lambda r: format(int(r['ZIPCODE']), '05'), axis=1)"
   ]
  },
  {
   "cell_type": "code",
   "execution_count": null,
   "metadata": {
    "pycharm": {
     "is_executing": true
    }
   },
   "outputs": [],
   "source": [
    "import re\n",
    "# Combine the columns representing the Address part of the input data for geocoding.\n",
    "df_buildings['ADDRESS'] = df_buildings.apply(lambda r: r['ST_NUM']+\" \" +r['ST_NAME']+\" \" +r['ST_NAME_SUF'], axis=1)\n",
    "# Strip duplicate whitespace\n",
    "df_buildings['ADDRESS'] = df_buildings.apply(lambda r: re.sub(r'\\s+', ' ',r['ADDRESS']).strip(), axis=1)"
   ]
  },
  {
   "cell_type": "code",
   "execution_count": null,
   "metadata": {
    "pycharm": {
     "is_executing": true
    }
   },
   "outputs": [],
   "source": [
    "# Create new dataframe from the address, and add some static data\n",
    "# to it, since it is needed for the geo-coding service.\n",
    "df_uaddress = df_buildings.drop_duplicates(subset='ADDRESS', keep=\"first\")\n",
    "df_uaddress['City'] = df_uaddress.apply(lambda r: 'Boston', axis=1)\n",
    "df_uaddress['State'] = df_uaddress.apply(lambda r: 'MA', axis=1)"
   ]
  },
  {
   "cell_type": "code",
   "execution_count": null,
   "metadata": {
    "pycharm": {
     "is_executing": true,
     "name": "#%%\n"
    }
   },
   "outputs": [],
   "source": [
    "# Output the dataframe as a CSV file, ready to be injested\n",
    "# by the Census geocoding service.\n",
    "print(\"The size of the unique address file is {}\".format(df_uaddress['ADDRESS'].count()))\n",
    "number_of_chunks = math.ceil(df_uaddress['ADDRESS'].count()/9500)\n",
    "for id, df_i in  enumerate(np.array_split(df_uaddress, number_of_chunks)):\n",
    "    output_filename = '../data/buildings_{}.csv'.format(id)\n",
    "    print(\"Writing output file {}\".format(output_filename))\n",
    "    df_i.to_csv(output_filename, columns=['ADDRESS','City','State','Zip'], header = False)"
   ]
  }
 ],
 "metadata": {
  "kernelspec": {
   "display_name": "Python 3",
   "language": "python",
   "name": "python3"
  },
  "language_info": {
   "codemirror_mode": {
    "name": "ipython",
    "version": 3
   },
   "file_extension": ".py",
   "mimetype": "text/x-python",
   "name": "python",
   "nbconvert_exporter": "python",
   "pygments_lexer": "ipython3",
   "version": "3.7.3"
  },
  "pycharm": {
   "stem_cell": {
    "cell_type": "raw",
    "source": [],
    "metadata": {
     "collapsed": false
    }
   }
  }
 },
 "nbformat": 4,
 "nbformat_minor": 1
}