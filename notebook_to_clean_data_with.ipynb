{
 "cells": [
  {
   "cell_type": "code",
   "execution_count": 1,
   "metadata": {},
   "outputs": [],
   "source": [
    "\n",
    "import pandas as pd\n",
    "import numpy as np\n",
    "import matplotlib\n",
    "import matplotlib.pyplot as plt\n",
    "import seaborn as sns\n",
    "# import statsmodels.api as sm\n",
    "%matplotlib inline\n",
    "from sklearn.feature_selection import SelectKBest\n",
    "from sklearn.feature_selection import chi2\n",
    "\n",
    "from sklearn.decomposition import PCA\n",
    "\n",
    "# from sklearn.model_selection import train_test_split\n",
    "# from sklearn.linear_model import LinearRegression\n",
    "# from sklearn.feature_selection import RFE\n",
    "# from sklearn.linear_model import RidgeCV, LassoCV, Ridge, Lasso"
   ]
  },
  {
   "cell_type": "code",
   "execution_count": 2,
   "metadata": {},
   "outputs": [],
   "source": [
    "# RangeIndex: 174668 entries, 0 to 174667\n",
    "# Data columns (total 75 columns):\n",
    "# PID                174668 non-null int64 —> Unique 10-digit parcel number \n",
    "# CM_ID              82038 non-null float64 —>  10-digit parcel number of Condo Main, which houses all related condo units     \n",
    "# GIS_ID             174668 non-null int64\n",
    "# ST_NUM             174668 non-null object —> Street Number\n",
    "# ST_NAME            174668 non-null object —> Street Name\n",
    "# ST_NAME_SUF        174129 non-null object —> Street name suffix\n",
    "# UNIT_NUM           65700 non-null object —> CONDO number within complex\n",
    "# ZIPCODE            174661 non-null float64 —> zipcode\n",
    "# PTYPE              174668 non-null int64 —> state class code\n",
    "# LU                 174668 non-null object —> Land Use/Property Type\n",
    "# OWN_OCC            174668 non-null object —> one-char code iniocading if owner receives reseidential exception as an ownber occupied property. \n",
    "# OWNER              174668 non-null object —> Primary owner of prop as og 01/1 \n",
    "# MAIL_ADDRESSEE     174668 non-null object -> \n",
    "# MAIL_ADDRESS       174668 non-null object\n",
    "# MAIL CS            174668 non-null object\n",
    "# MAIL_ZIPCODE       174668 non-null object\n",
    "# AV_LAND            174668 non-null int64 —> Total assesed land value\n",
    "# AV_BLDG            174668 non-null int64 —> Total assesed building value\n",
    "# AV_TOTAL           174668 non-null int64 —> Total assesed prop. value\n",
    "# GROSS_TAX          174668 non-null int64 —> Tax billed based on total assed value multiplied by tax rate. \n",
    "# LAND_SF            169227 non-null float64 -> Total sqr feet. \n",
    "# YR_BUILT           169454 non-null float64 —> Year built \n",
    "# YR_REMOD           132872 non-null float64 —> Year remodeled \n",
    "# GROSS_AREA         169140 non-null float64 —> Gross floor area of COMMERCIAL properties\n",
    "# LIVING_AREA        169140 non-null float64 —> Living are sqr footage \n",
    "# NUM_FLOORS         152139 non-null float64 — Num. floors\n",
    "# STRUCTURE_CLASS    84501 non-null object —> classification of COMMERCIAL building\n",
    "# R_BLDG_STYL        62760 non-null object —> RESIDENTIAL building style\n",
    "# R_ROOF_TYP         62757 non-null object —> Roof type\n",
    "# R_EXT_FIN          62757 non-null object —> Exterior finish\n",
    "# R_TOTAL_RMS        62757 non-null float64 — Num. rooms\n",
    "# R_BDRMS            62757 non-null float64 —> num beds\n",
    "# R_FULL_BTH         62757 non-null float64 —> num FULL bath\n",
    "# R_HALF_BTH         62757 non-null float64 —> num HALF bath\n",
    "# R_BTH_STYLE        62757 non-null object —> RESIDENTIAL bath style\n",
    "# R_BTH_STYLE2       54762 non-null object —> RESIDENTIAL bath style #2\n",
    "# R_BTH_STYLE3       27184 non-null object —> RESIDENTIAL bath style #3\n",
    "# R_KITCH            62757 non-null float64 —> Num. kitchen\n",
    "# R_KITCH_STYLE      62757 non-null object —> RESIDENTIAL kitchen style\n",
    "# R_KITCH_STYLE2     32829 non-null object —> RESIDENTIAL kitchen style #2\n",
    "# R_KITCH_STYLE3     14566 non-null object —> RESIDENTIAL kitchen style #3\n",
    "# R_HEAT_TYP         62757 non-null object —> Heat type\n",
    "# R_AC               62757 non-null object —> Has AC? (Y/N) \n",
    "# R_FPLACE           62757 non-null float64 —> Num. fireplace\n",
    "# R_EXT_CND          62757 non-null object —> RESIDENTIAL exterior condition\n",
    "# R_OVRALL_CND       62757 non-null object —> RESIDENTIAL overall condition\n",
    "# R_INT_CND          62757 non-null object —> RESIDENTIAL interior condition\n",
    "# R_INT_FIN          62757 non-null object —> RESIDENTIAL interior finish\n",
    "# R_VIEW             62757 non-null object —> RESIDENTIAL view\n",
    "# S_NUM_BLDG         3567 non-null float64 —> Num buildings in CONDO MAIN\n",
    "# S_BLDG_STYL        9930 non-null object —> Building style of CONDO MAIN \n",
    "# S_UNIT_RES         9930 non-null float64 —> Num. of RESIDENTIAL units in CONDO MAIN.\n",
    "# S_UNIT_COM         9930 non-null float64 —> Num. of COMMERCIAL units in CONDO MAIN.\n",
    "# S_UNIT_RC          9930 non-null float64 —> Num. of MIXED USE units in CONDO MAIN.\n",
    "# S_EXT_FIN          9930 non-null object —> Exterior finish of CONDO MAIN\n",
    "# S_EXT_CND          9930 non-null object —> CONDO MAIN exterior condition\n",
    "# U_BASE_FLOOR       64044 non-null float64 —> Base floor of CONDO UNIT\n",
    "# U_NUM_PARK         64044 non-null float64 —> Num. parking space\n",
    "# U_CORNER           64044 non-null object —> CONDO UNIT in corner? (Y/N)\n",
    "# U_ORIENT           64044 non-null object —> Orientation of CONDO UNIT in build. \n",
    "# U_TOT_RMS          64044 non-null object —> Num rooms in CONDO UNIT\n",
    "# U_BDRMS            64044 non-null float64 —> Num. beds in CONDO UNIT\n",
    "# U_FULL_BTH         64044 non-null float64 —> Num bath in CONDO UNIT \n",
    "# U_HALF_BTH         64044 non-null float64 —> Num. half bath in CONDO UNIT\n",
    "# U_BTH_STYLE        64044 non-null object —> CONDO UNIT bath style\n",
    "# U_BTH_STYLE2       25469 non-null object —> CONDO UNIT bath style #2\n",
    "# U_BTH_STYLE3       6930 non-null object —> CONDO UNIT bath style #3\n",
    "# U_KITCH_TYPE       64044 non-null object —> Type of kitchen in CONDO UNIT\n",
    "# U_KITCH_STYLE      64044 non-null object —> CONDO UNIT kitchen style\n",
    "# U_HEAT_TYP         64044 non-null object —> Type of heating in CONDO UNIT\n",
    "# U_AC               64044 non-null object —>  Indicates if CONDO UNIT has self-controlled air conditioning\n",
    "# U_FPLACE           64044 non-null float64 —> Num. Fireplace in CONDO UNIT\n",
    "# U_INT_FIN          64044 non-null object —> CONDO UNIT interior finish\n",
    "# U_INT_CND          64044 non-null object —> CONDO UNIT interior condition\n",
    "# U_VIEW             64044 non-null object —> CONDO UNIT view\n",
    "\n"
   ]
  },
  {
   "cell_type": "code",
   "execution_count": 34,
   "metadata": {},
   "outputs": [],
   "source": [
    "df = pd.read_csv('fy19fullpropassess.csv')\n"
   ]
  },
  {
   "cell_type": "code",
   "execution_count": 35,
   "metadata": {},
   "outputs": [
    {
     "data": {
      "text/plain": [
       "Index(['PID', 'CM_ID', 'GIS_ID', 'ST_NUM', 'ST_NAME', 'ST_NAME_SUF',\n",
       "       'UNIT_NUM', 'ZIPCODE', 'PTYPE', 'LU', 'OWN_OCC', 'OWNER',\n",
       "       'MAIL_ADDRESSEE', 'MAIL_ADDRESS', 'MAIL CS', 'MAIL_ZIPCODE', 'AV_LAND',\n",
       "       'AV_BLDG', 'AV_TOTAL', 'GROSS_TAX', 'LAND_SF', 'YR_BUILT', 'YR_REMOD',\n",
       "       'GROSS_AREA', 'LIVING_AREA', 'NUM_FLOORS', 'STRUCTURE_CLASS',\n",
       "       'R_BLDG_STYL', 'R_ROOF_TYP', 'R_EXT_FIN', 'R_TOTAL_RMS', 'R_BDRMS',\n",
       "       'R_FULL_BTH', 'R_HALF_BTH', 'R_BTH_STYLE', 'R_BTH_STYLE2',\n",
       "       'R_BTH_STYLE3', 'R_KITCH', 'R_KITCH_STYLE', 'R_KITCH_STYLE2',\n",
       "       'R_KITCH_STYLE3', 'R_HEAT_TYP', 'R_AC', 'R_FPLACE', 'R_EXT_CND',\n",
       "       'R_OVRALL_CND', 'R_INT_CND', 'R_INT_FIN', 'R_VIEW', 'S_NUM_BLDG',\n",
       "       'S_BLDG_STYL', 'S_UNIT_RES', 'S_UNIT_COM', 'S_UNIT_RC', 'S_EXT_FIN',\n",
       "       'S_EXT_CND', 'U_BASE_FLOOR', 'U_NUM_PARK', 'U_CORNER', 'U_ORIENT',\n",
       "       'U_TOT_RMS', 'U_BDRMS', 'U_FULL_BTH', 'U_HALF_BTH', 'U_BTH_STYLE',\n",
       "       'U_BTH_STYLE2', 'U_BTH_STYLE3', 'U_KITCH_TYPE', 'U_KITCH_STYLE',\n",
       "       'U_HEAT_TYP', 'U_AC', 'U_FPLACE', 'U_INT_FIN', 'U_INT_CND', 'U_VIEW'],\n",
       "      dtype='object')"
      ]
     },
     "execution_count": 35,
     "metadata": {},
     "output_type": "execute_result"
    }
   ],
   "source": [
    "df.columns"
   ]
  },
  {
   "cell_type": "code",
   "execution_count": null,
   "metadata": {},
   "outputs": [],
   "source": []
  },
  {
   "cell_type": "code",
   "execution_count": null,
   "metadata": {},
   "outputs": [],
   "source": []
  },
  {
   "cell_type": "code",
   "execution_count": null,
   "metadata": {},
   "outputs": [],
   "source": []
  },
  {
   "cell_type": "code",
   "execution_count": 36,
   "metadata": {
    "scrolled": true
   },
   "outputs": [
    {
     "name": "stdout",
     "output_type": "stream",
     "text": [
      "<class 'pandas.core.frame.DataFrame'>\n",
      "RangeIndex: 174668 entries, 0 to 174667\n",
      "Data columns (total 75 columns):\n",
      "PID                174668 non-null int64\n",
      "CM_ID              82038 non-null float64\n",
      "GIS_ID             174668 non-null int64\n",
      "ST_NUM             174668 non-null object\n",
      "ST_NAME            174668 non-null object\n",
      "ST_NAME_SUF        174129 non-null object\n",
      "UNIT_NUM           65700 non-null object\n",
      "ZIPCODE            174661 non-null float64\n",
      "PTYPE              174668 non-null int64\n",
      "LU                 174668 non-null object\n",
      "OWN_OCC            174668 non-null object\n",
      "OWNER              174668 non-null object\n",
      "MAIL_ADDRESSEE     174668 non-null object\n",
      "MAIL_ADDRESS       174668 non-null object\n",
      "MAIL CS            174668 non-null object\n",
      "MAIL_ZIPCODE       174668 non-null object\n",
      "AV_LAND            174668 non-null int64\n",
      "AV_BLDG            174668 non-null int64\n",
      "AV_TOTAL           174668 non-null int64\n",
      "GROSS_TAX          174668 non-null int64\n",
      "LAND_SF            169227 non-null float64\n",
      "YR_BUILT           169454 non-null float64\n",
      "YR_REMOD           132872 non-null float64\n",
      "GROSS_AREA         169140 non-null float64\n",
      "LIVING_AREA        169140 non-null float64\n",
      "NUM_FLOORS         152139 non-null float64\n",
      "STRUCTURE_CLASS    84501 non-null object\n",
      "R_BLDG_STYL        62760 non-null object\n",
      "R_ROOF_TYP         62757 non-null object\n",
      "R_EXT_FIN          62757 non-null object\n",
      "R_TOTAL_RMS        62757 non-null float64\n",
      "R_BDRMS            62757 non-null float64\n",
      "R_FULL_BTH         62757 non-null float64\n",
      "R_HALF_BTH         62757 non-null float64\n",
      "R_BTH_STYLE        62757 non-null object\n",
      "R_BTH_STYLE2       54762 non-null object\n",
      "R_BTH_STYLE3       27184 non-null object\n",
      "R_KITCH            62757 non-null float64\n",
      "R_KITCH_STYLE      62757 non-null object\n",
      "R_KITCH_STYLE2     32829 non-null object\n",
      "R_KITCH_STYLE3     14566 non-null object\n",
      "R_HEAT_TYP         62757 non-null object\n",
      "R_AC               62757 non-null object\n",
      "R_FPLACE           62757 non-null float64\n",
      "R_EXT_CND          62757 non-null object\n",
      "R_OVRALL_CND       62757 non-null object\n",
      "R_INT_CND          62757 non-null object\n",
      "R_INT_FIN          62757 non-null object\n",
      "R_VIEW             62757 non-null object\n",
      "S_NUM_BLDG         3567 non-null float64\n",
      "S_BLDG_STYL        9930 non-null object\n",
      "S_UNIT_RES         9930 non-null float64\n",
      "S_UNIT_COM         9930 non-null float64\n",
      "S_UNIT_RC          9930 non-null float64\n",
      "S_EXT_FIN          9930 non-null object\n",
      "S_EXT_CND          9930 non-null object\n",
      "U_BASE_FLOOR       64044 non-null float64\n",
      "U_NUM_PARK         64044 non-null float64\n",
      "U_CORNER           64044 non-null object\n",
      "U_ORIENT           64044 non-null object\n",
      "U_TOT_RMS          64044 non-null object\n",
      "U_BDRMS            64044 non-null float64\n",
      "U_FULL_BTH         64044 non-null float64\n",
      "U_HALF_BTH         64044 non-null float64\n",
      "U_BTH_STYLE        64044 non-null object\n",
      "U_BTH_STYLE2       25469 non-null object\n",
      "U_BTH_STYLE3       6930 non-null object\n",
      "U_KITCH_TYPE       64044 non-null object\n",
      "U_KITCH_STYLE      64044 non-null object\n",
      "U_HEAT_TYP         64044 non-null object\n",
      "U_AC               64044 non-null object\n",
      "U_FPLACE           64044 non-null float64\n",
      "U_INT_FIN          64044 non-null object\n",
      "U_INT_CND          64044 non-null object\n",
      "U_VIEW             64044 non-null object\n",
      "dtypes: float64(24), int64(7), object(44)\n",
      "memory usage: 99.9+ MB\n"
     ]
    }
   ],
   "source": [
    "df.info(verbose=True)"
   ]
  },
  {
   "cell_type": "code",
   "execution_count": 37,
   "metadata": {},
   "outputs": [
    {
     "data": {
      "text/plain": [
       "CM_ID               92630\n",
       "ST_NAME_SUF           539\n",
       "UNIT_NUM           108968\n",
       "ZIPCODE                 7\n",
       "LAND_SF              5441\n",
       "YR_BUILT             5214\n",
       "YR_REMOD            41796\n",
       "GROSS_AREA           5528\n",
       "LIVING_AREA          5528\n",
       "NUM_FLOORS          22529\n",
       "STRUCTURE_CLASS     90167\n",
       "R_BLDG_STYL        111908\n",
       "R_ROOF_TYP         111911\n",
       "R_EXT_FIN          111911\n",
       "R_TOTAL_RMS        111911\n",
       "R_BDRMS            111911\n",
       "R_FULL_BTH         111911\n",
       "R_HALF_BTH         111911\n",
       "R_BTH_STYLE        111911\n",
       "R_BTH_STYLE2       119906\n",
       "R_BTH_STYLE3       147484\n",
       "R_KITCH            111911\n",
       "R_KITCH_STYLE      111911\n",
       "R_KITCH_STYLE2     141839\n",
       "R_KITCH_STYLE3     160102\n",
       "R_HEAT_TYP         111911\n",
       "R_AC               111911\n",
       "R_FPLACE           111911\n",
       "R_EXT_CND          111911\n",
       "R_OVRALL_CND       111911\n",
       "R_INT_CND          111911\n",
       "R_INT_FIN          111911\n",
       "R_VIEW             111911\n",
       "S_NUM_BLDG         171101\n",
       "S_BLDG_STYL        164738\n",
       "S_UNIT_RES         164738\n",
       "S_UNIT_COM         164738\n",
       "S_UNIT_RC          164738\n",
       "S_EXT_FIN          164738\n",
       "S_EXT_CND          164738\n",
       "U_BASE_FLOOR       110624\n",
       "U_NUM_PARK         110624\n",
       "U_CORNER           110624\n",
       "U_ORIENT           110624\n",
       "U_TOT_RMS          110624\n",
       "U_BDRMS            110624\n",
       "U_FULL_BTH         110624\n",
       "U_HALF_BTH         110624\n",
       "U_BTH_STYLE        110624\n",
       "U_BTH_STYLE2       149199\n",
       "U_BTH_STYLE3       167738\n",
       "U_KITCH_TYPE       110624\n",
       "U_KITCH_STYLE      110624\n",
       "U_HEAT_TYP         110624\n",
       "U_AC               110624\n",
       "U_FPLACE           110624\n",
       "U_INT_FIN          110624\n",
       "U_INT_CND          110624\n",
       "U_VIEW             110624\n",
       "dtype: int64"
      ]
     },
     "execution_count": 37,
     "metadata": {},
     "output_type": "execute_result"
    }
   ],
   "source": [
    "# We have 75 features, many of which need to be converted to int, some of which may be dropped. \n",
    "\n",
    "# First, look for null values so we can dropna\n",
    "null_columns=df.columns[df.isnull().any()]\n",
    "df[null_columns].isnull().sum()\n",
    "\n",
    "# This makes sense because not all features will apply to all rows. \n",
    "# For example, features specific to CONDO UNIT will be null for RESIDENTIAL properties\n",
    "# Xo we can't drop all na (cleaned = cleaned.dropna()) b/c we would end up with an empty Dataframe"
   ]
  },
  {
   "cell_type": "code",
   "execution_count": 38,
   "metadata": {},
   "outputs": [
    {
     "name": "stdout",
     "output_type": "stream",
     "text": [
      "cleaned.shape Before dropping features:(174668, 75)\n",
      "cleaned.shape after dropping features:(174668, 64)\n"
     ]
    }
   ],
   "source": [
    "print('cleaned.shape Before dropping features:' + str(df.shape))\n",
    "\n",
    "# Now let's drop some features we likely don't need. For example, we probably don;t need the mailing address of the property owner\n",
    "features_to_drop = ['ST_NUM', 'ST_NAME', 'ST_NAME_SUF', 'UNIT_NUM', 'OWN_OCC', 'OWNER', 'MAIL_ADDRESS','MAIL_ADDRESSEE', 'MAIL CS', 'MAIL_ZIPCODE']\n",
    "df = df.drop(features_to_drop, axis=1)\n",
    "\n",
    "# We can also drop LU since it corresponds to PTYPE\n",
    "df = df.drop(['LU'], axis=1)\n",
    "\n",
    "print('cleaned.shape after dropping features:' + str(df.shape))\n"
   ]
  },
  {
   "cell_type": "code",
   "execution_count": 39,
   "metadata": {},
   "outputs": [
    {
     "data": {
      "text/plain": [
       "CM_ID               92630\n",
       "ZIPCODE                 7\n",
       "LAND_SF              5441\n",
       "YR_BUILT             5214\n",
       "YR_REMOD            41796\n",
       "GROSS_AREA           5528\n",
       "LIVING_AREA          5528\n",
       "NUM_FLOORS          22529\n",
       "STRUCTURE_CLASS     90167\n",
       "R_BLDG_STYL        111908\n",
       "R_ROOF_TYP         111911\n",
       "R_EXT_FIN          111911\n",
       "R_TOTAL_RMS        111911\n",
       "R_BDRMS            111911\n",
       "R_FULL_BTH         111911\n",
       "R_HALF_BTH         111911\n",
       "R_BTH_STYLE        111911\n",
       "R_BTH_STYLE2       119906\n",
       "R_BTH_STYLE3       147484\n",
       "R_KITCH            111911\n",
       "R_KITCH_STYLE      111911\n",
       "R_KITCH_STYLE2     141839\n",
       "R_KITCH_STYLE3     160102\n",
       "R_HEAT_TYP         111911\n",
       "R_AC               111911\n",
       "R_FPLACE           111911\n",
       "R_EXT_CND          111911\n",
       "R_OVRALL_CND       111911\n",
       "R_INT_CND          111911\n",
       "R_INT_FIN          111911\n",
       "R_VIEW             111911\n",
       "S_NUM_BLDG         171101\n",
       "S_BLDG_STYL        164738\n",
       "S_UNIT_RES         164738\n",
       "S_UNIT_COM         164738\n",
       "S_UNIT_RC          164738\n",
       "S_EXT_FIN          164738\n",
       "S_EXT_CND          164738\n",
       "U_BASE_FLOOR       110624\n",
       "U_NUM_PARK         110624\n",
       "U_CORNER           110624\n",
       "U_ORIENT           110624\n",
       "U_TOT_RMS          110624\n",
       "U_BDRMS            110624\n",
       "U_FULL_BTH         110624\n",
       "U_HALF_BTH         110624\n",
       "U_BTH_STYLE        110624\n",
       "U_BTH_STYLE2       149199\n",
       "U_BTH_STYLE3       167738\n",
       "U_KITCH_TYPE       110624\n",
       "U_KITCH_STYLE      110624\n",
       "U_HEAT_TYP         110624\n",
       "U_AC               110624\n",
       "U_FPLACE           110624\n",
       "U_INT_FIN          110624\n",
       "U_INT_CND          110624\n",
       "U_VIEW             110624\n",
       "dtype: int64"
      ]
     },
     "execution_count": 39,
     "metadata": {},
     "output_type": "execute_result"
    }
   ],
   "source": [
    "# First, look for null values so we can dropna\n",
    "null_columns=df.columns[df.isnull().any()]\n",
    "df[null_columns].isnull().sum()"
   ]
  },
  {
   "cell_type": "code",
   "execution_count": 52,
   "metadata": {},
   "outputs": [
    {
     "name": "stdout",
     "output_type": "stream",
     "text": [
      "cleaned.shape after dropping na:(5088, 64)\n"
     ]
    }
   ],
   "source": [
    "# Let's dropna from select colums\n",
    "na_to_drop = ['ZIPCODE', 'LAND_SF', 'YR_BUILT', 'YR_REMOD', 'CM_ID', 'STRUCTURE_CLASS']\n",
    "df = df.dropna(subset=na_to_drop)\n",
    "print('cleaned.shape after dropping na:' + str(df.shape))\n"
   ]
  },
  {
   "cell_type": "code",
   "execution_count": 41,
   "metadata": {},
   "outputs": [],
   "source": [
    "# Convert objects to int\n",
    "features_to_convert_to_int = ['ZIPCODE', 'CM_ID', 'YR_BUILT', 'YR_REMOD']\n",
    "df[features_to_convert_to_int] = df[features_to_convert_to_int].astype(int)\n",
    "\n"
   ]
  },
  {
   "cell_type": "code",
   "execution_count": 49,
   "metadata": {},
   "outputs": [],
   "source": [
    "# Convert to dates\n",
    "df = df[df.YR_BUILT != 0]\n",
    "df.YR_BUILT.unique()\n",
    "df.YR_BUILT = pd.to_datetime(df.YR_BUILT, format='%Y')\n",
    "\n",
    "df = df[df.YR_REMOD != 0]\n",
    "df = df[df.YR_REMOD != 1500]\n",
    "df.YR_REMOD.unique()\n",
    "df.YR_REMOD = pd.to_datetime(df.YR_REMOD, format='%Y')\n",
    "\n",
    "df.info(verbose=True)\n"
   ]
  },
  {
   "cell_type": "code",
   "execution_count": 57,
   "metadata": {},
   "outputs": [
    {
     "data": {
      "text/plain": [
       "(5088, 68)"
      ]
     },
     "execution_count": 57,
     "metadata": {},
     "output_type": "execute_result"
    }
   ],
   "source": [
    "df = pd.get_dummies(df, columns=['STRUCTURE_CLASS'])\n"
   ]
  },
  {
   "cell_type": "code",
   "execution_count": 59,
   "metadata": {},
   "outputs": [],
   "source": [
    "# For the sake of simplicty, just take the first 14 features \n",
    "# This is just an excercise to make sure I'm on the right track. When working with the final data we obviously can't drop this\n",
    "# many features\n",
    "df_slice = df.iloc[:,0:14]\n"
   ]
  },
  {
   "cell_type": "code",
   "execution_count": 64,
   "metadata": {},
   "outputs": [
    {
     "name": "stdout",
     "output_type": "stream",
     "text": [
      "(5088, 13)\n",
      "(5088,)\n"
     ]
    }
   ],
   "source": [
    "# AV_TOTAL is the target column\n",
    "\n",
    "X = df_slice.drop(['AV_TOTAL'], axis=1) # independent columns\n",
    "y = df_slice['AV_TOTAL'] # AV_TOTAL is the target column\n",
    "\n",
    "print(X.shape)\n",
    "print(y.shape)"
   ]
  },
  {
   "cell_type": "code",
   "execution_count": 66,
   "metadata": {},
   "outputs": [
    {
     "data": {
      "text/html": [
       "<div>\n",
       "<style scoped>\n",
       "    .dataframe tbody tr th:only-of-type {\n",
       "        vertical-align: middle;\n",
       "    }\n",
       "\n",
       "    .dataframe tbody tr th {\n",
       "        vertical-align: top;\n",
       "    }\n",
       "\n",
       "    .dataframe thead th {\n",
       "        text-align: right;\n",
       "    }\n",
       "</style>\n",
       "<table border=\"1\" class=\"dataframe\">\n",
       "  <thead>\n",
       "    <tr style=\"text-align: right;\">\n",
       "      <th></th>\n",
       "      <th>PID</th>\n",
       "      <th>CM_ID</th>\n",
       "      <th>GIS_ID</th>\n",
       "      <th>ZIPCODE</th>\n",
       "      <th>PTYPE</th>\n",
       "      <th>AV_LAND</th>\n",
       "      <th>AV_BLDG</th>\n",
       "      <th>AV_TOTAL</th>\n",
       "      <th>GROSS_TAX</th>\n",
       "      <th>LAND_SF</th>\n",
       "      <th>YR_BUILT</th>\n",
       "      <th>YR_REMOD</th>\n",
       "      <th>GROSS_AREA</th>\n",
       "      <th>LIVING_AREA</th>\n",
       "    </tr>\n",
       "  </thead>\n",
       "  <tbody>\n",
       "    <tr>\n",
       "      <td>21</td>\n",
       "      <td>502554000</td>\n",
       "      <td>502554000</td>\n",
       "      <td>502554000</td>\n",
       "      <td>2108</td>\n",
       "      <td>995</td>\n",
       "      <td>0</td>\n",
       "      <td>0</td>\n",
       "      <td>0</td>\n",
       "      <td>0</td>\n",
       "      <td>2519.0</td>\n",
       "      <td>1899-01-01</td>\n",
       "      <td>2008-01-01</td>\n",
       "      <td>0.0</td>\n",
       "      <td>0.0</td>\n",
       "    </tr>\n",
       "    <tr>\n",
       "      <td>204</td>\n",
       "      <td>100145000</td>\n",
       "      <td>100145000</td>\n",
       "      <td>100145000</td>\n",
       "      <td>2128</td>\n",
       "      <td>995</td>\n",
       "      <td>0</td>\n",
       "      <td>0</td>\n",
       "      <td>0</td>\n",
       "      <td>0</td>\n",
       "      <td>1653.0</td>\n",
       "      <td>1900-01-01</td>\n",
       "      <td>2015-01-01</td>\n",
       "      <td>0.0</td>\n",
       "      <td>0.0</td>\n",
       "    </tr>\n",
       "    <tr>\n",
       "      <td>215</td>\n",
       "      <td>100153000</td>\n",
       "      <td>100153000</td>\n",
       "      <td>100153000</td>\n",
       "      <td>2128</td>\n",
       "      <td>995</td>\n",
       "      <td>0</td>\n",
       "      <td>0</td>\n",
       "      <td>0</td>\n",
       "      <td>0</td>\n",
       "      <td>1900.0</td>\n",
       "      <td>1899-01-01</td>\n",
       "      <td>2005-01-01</td>\n",
       "      <td>0.0</td>\n",
       "      <td>0.0</td>\n",
       "    </tr>\n",
       "    <tr>\n",
       "      <td>220</td>\n",
       "      <td>100154000</td>\n",
       "      <td>100154000</td>\n",
       "      <td>100154000</td>\n",
       "      <td>2128</td>\n",
       "      <td>995</td>\n",
       "      <td>0</td>\n",
       "      <td>0</td>\n",
       "      <td>0</td>\n",
       "      <td>0</td>\n",
       "      <td>1900.0</td>\n",
       "      <td>1910-01-01</td>\n",
       "      <td>2000-01-01</td>\n",
       "      <td>0.0</td>\n",
       "      <td>0.0</td>\n",
       "    </tr>\n",
       "    <tr>\n",
       "      <td>304</td>\n",
       "      <td>100177000</td>\n",
       "      <td>100177000</td>\n",
       "      <td>100177000</td>\n",
       "      <td>2128</td>\n",
       "      <td>995</td>\n",
       "      <td>0</td>\n",
       "      <td>0</td>\n",
       "      <td>0</td>\n",
       "      <td>0</td>\n",
       "      <td>2087.0</td>\n",
       "      <td>1900-01-01</td>\n",
       "      <td>2016-01-01</td>\n",
       "      <td>0.0</td>\n",
       "      <td>0.0</td>\n",
       "    </tr>\n",
       "  </tbody>\n",
       "</table>\n",
       "</div>"
      ],
      "text/plain": [
       "           PID      CM_ID     GIS_ID  ZIPCODE  PTYPE  AV_LAND  AV_BLDG  \\\n",
       "21   502554000  502554000  502554000     2108    995        0        0   \n",
       "204  100145000  100145000  100145000     2128    995        0        0   \n",
       "215  100153000  100153000  100153000     2128    995        0        0   \n",
       "220  100154000  100154000  100154000     2128    995        0        0   \n",
       "304  100177000  100177000  100177000     2128    995        0        0   \n",
       "\n",
       "     AV_TOTAL  GROSS_TAX  LAND_SF   YR_BUILT   YR_REMOD  GROSS_AREA  \\\n",
       "21          0          0   2519.0 1899-01-01 2008-01-01         0.0   \n",
       "204         0          0   1653.0 1900-01-01 2015-01-01         0.0   \n",
       "215         0          0   1900.0 1899-01-01 2005-01-01         0.0   \n",
       "220         0          0   1900.0 1910-01-01 2000-01-01         0.0   \n",
       "304         0          0   2087.0 1900-01-01 2016-01-01         0.0   \n",
       "\n",
       "     LIVING_AREA  \n",
       "21           0.0  \n",
       "204          0.0  \n",
       "215          0.0  \n",
       "220          0.0  \n",
       "304          0.0  "
      ]
     },
     "execution_count": 66,
     "metadata": {},
     "output_type": "execute_result"
    }
   ],
   "source": [
    "df_slice.head()"
   ]
  },
  {
   "cell_type": "code",
   "execution_count": 65,
   "metadata": {},
   "outputs": [
    {
     "ename": "TypeError",
     "evalue": "float() argument must be a string or a number, not 'Timestamp'",
     "output_type": "error",
     "traceback": [
      "\u001b[0;31m---------------------------------------------------------------------------\u001b[0m",
      "\u001b[0;31mTypeError\u001b[0m                                 Traceback (most recent call last)",
      "\u001b[0;32m<ipython-input-65-8980a0d3ffdb>\u001b[0m in \u001b[0;36m<module>\u001b[0;34m\u001b[0m\n\u001b[1;32m      1\u001b[0m \u001b[0;31m#apply SelectKBest class to extract top 10 best features\u001b[0m\u001b[0;34m\u001b[0m\u001b[0;34m\u001b[0m\u001b[0m\n\u001b[1;32m      2\u001b[0m \u001b[0mbestfeatures\u001b[0m \u001b[0;34m=\u001b[0m \u001b[0mSelectKBest\u001b[0m\u001b[0;34m(\u001b[0m\u001b[0mscore_func\u001b[0m\u001b[0;34m=\u001b[0m\u001b[0mchi2\u001b[0m\u001b[0;34m,\u001b[0m \u001b[0mk\u001b[0m\u001b[0;34m=\u001b[0m\u001b[0;36m4\u001b[0m\u001b[0;34m)\u001b[0m\u001b[0;34m\u001b[0m\u001b[0m\n\u001b[0;32m----> 3\u001b[0;31m \u001b[0mfit\u001b[0m \u001b[0;34m=\u001b[0m \u001b[0mbestfeatures\u001b[0m\u001b[0;34m.\u001b[0m\u001b[0mfit\u001b[0m\u001b[0;34m(\u001b[0m\u001b[0mX\u001b[0m\u001b[0;34m,\u001b[0m\u001b[0my\u001b[0m\u001b[0;34m)\u001b[0m\u001b[0;34m\u001b[0m\u001b[0m\n\u001b[0m\u001b[1;32m      4\u001b[0m \u001b[0mdfscores\u001b[0m \u001b[0;34m=\u001b[0m \u001b[0mpd\u001b[0m\u001b[0;34m.\u001b[0m\u001b[0mDataFrame\u001b[0m\u001b[0;34m(\u001b[0m\u001b[0mfit\u001b[0m\u001b[0;34m.\u001b[0m\u001b[0mscores_\u001b[0m\u001b[0;34m)\u001b[0m\u001b[0;34m\u001b[0m\u001b[0m\n\u001b[1;32m      5\u001b[0m \u001b[0mdfcolumns\u001b[0m \u001b[0;34m=\u001b[0m \u001b[0mpd\u001b[0m\u001b[0;34m.\u001b[0m\u001b[0mDataFrame\u001b[0m\u001b[0;34m(\u001b[0m\u001b[0mX\u001b[0m\u001b[0;34m.\u001b[0m\u001b[0mcolumns\u001b[0m\u001b[0;34m)\u001b[0m\u001b[0;34m\u001b[0m\u001b[0m\n",
      "\u001b[0;32m~/Desktop/py/venvthree/lib/python3.6/site-packages/sklearn/feature_selection/univariate_selection.py\u001b[0m in \u001b[0;36mfit\u001b[0;34m(self, X, y)\u001b[0m\n\u001b[1;32m    339\u001b[0m         \u001b[0mself\u001b[0m \u001b[0;34m:\u001b[0m \u001b[0mobject\u001b[0m\u001b[0;34m\u001b[0m\u001b[0m\n\u001b[1;32m    340\u001b[0m         \"\"\"\n\u001b[0;32m--> 341\u001b[0;31m         \u001b[0mX\u001b[0m\u001b[0;34m,\u001b[0m \u001b[0my\u001b[0m \u001b[0;34m=\u001b[0m \u001b[0mcheck_X_y\u001b[0m\u001b[0;34m(\u001b[0m\u001b[0mX\u001b[0m\u001b[0;34m,\u001b[0m \u001b[0my\u001b[0m\u001b[0;34m,\u001b[0m \u001b[0;34m[\u001b[0m\u001b[0;34m'csr'\u001b[0m\u001b[0;34m,\u001b[0m \u001b[0;34m'csc'\u001b[0m\u001b[0;34m]\u001b[0m\u001b[0;34m,\u001b[0m \u001b[0mmulti_output\u001b[0m\u001b[0;34m=\u001b[0m\u001b[0;32mTrue\u001b[0m\u001b[0;34m)\u001b[0m\u001b[0;34m\u001b[0m\u001b[0m\n\u001b[0m\u001b[1;32m    342\u001b[0m \u001b[0;34m\u001b[0m\u001b[0m\n\u001b[1;32m    343\u001b[0m         \u001b[0;32mif\u001b[0m \u001b[0;32mnot\u001b[0m \u001b[0mcallable\u001b[0m\u001b[0;34m(\u001b[0m\u001b[0mself\u001b[0m\u001b[0;34m.\u001b[0m\u001b[0mscore_func\u001b[0m\u001b[0;34m)\u001b[0m\u001b[0;34m:\u001b[0m\u001b[0;34m\u001b[0m\u001b[0m\n",
      "\u001b[0;32m~/Desktop/py/venvthree/lib/python3.6/site-packages/sklearn/utils/validation.py\u001b[0m in \u001b[0;36mcheck_X_y\u001b[0;34m(X, y, accept_sparse, accept_large_sparse, dtype, order, copy, force_all_finite, ensure_2d, allow_nd, multi_output, ensure_min_samples, ensure_min_features, y_numeric, warn_on_dtype, estimator)\u001b[0m\n\u001b[1;32m    717\u001b[0m                     \u001b[0mensure_min_features\u001b[0m\u001b[0;34m=\u001b[0m\u001b[0mensure_min_features\u001b[0m\u001b[0;34m,\u001b[0m\u001b[0;34m\u001b[0m\u001b[0m\n\u001b[1;32m    718\u001b[0m                     \u001b[0mwarn_on_dtype\u001b[0m\u001b[0;34m=\u001b[0m\u001b[0mwarn_on_dtype\u001b[0m\u001b[0;34m,\u001b[0m\u001b[0;34m\u001b[0m\u001b[0m\n\u001b[0;32m--> 719\u001b[0;31m                     estimator=estimator)\n\u001b[0m\u001b[1;32m    720\u001b[0m     \u001b[0;32mif\u001b[0m \u001b[0mmulti_output\u001b[0m\u001b[0;34m:\u001b[0m\u001b[0;34m\u001b[0m\u001b[0m\n\u001b[1;32m    721\u001b[0m         y = check_array(y, 'csr', force_all_finite=True, ensure_2d=False,\n",
      "\u001b[0;32m~/Desktop/py/venvthree/lib/python3.6/site-packages/sklearn/utils/validation.py\u001b[0m in \u001b[0;36mcheck_array\u001b[0;34m(array, accept_sparse, accept_large_sparse, dtype, order, copy, force_all_finite, ensure_2d, allow_nd, ensure_min_samples, ensure_min_features, warn_on_dtype, estimator)\u001b[0m\n\u001b[1;32m    534\u001b[0m         \u001b[0;31m# make sure we actually converted to numeric:\u001b[0m\u001b[0;34m\u001b[0m\u001b[0;34m\u001b[0m\u001b[0m\n\u001b[1;32m    535\u001b[0m         \u001b[0;32mif\u001b[0m \u001b[0mdtype_numeric\u001b[0m \u001b[0;32mand\u001b[0m \u001b[0marray\u001b[0m\u001b[0;34m.\u001b[0m\u001b[0mdtype\u001b[0m\u001b[0;34m.\u001b[0m\u001b[0mkind\u001b[0m \u001b[0;34m==\u001b[0m \u001b[0;34m\"O\"\u001b[0m\u001b[0;34m:\u001b[0m\u001b[0;34m\u001b[0m\u001b[0m\n\u001b[0;32m--> 536\u001b[0;31m             \u001b[0marray\u001b[0m \u001b[0;34m=\u001b[0m \u001b[0marray\u001b[0m\u001b[0;34m.\u001b[0m\u001b[0mastype\u001b[0m\u001b[0;34m(\u001b[0m\u001b[0mnp\u001b[0m\u001b[0;34m.\u001b[0m\u001b[0mfloat64\u001b[0m\u001b[0;34m)\u001b[0m\u001b[0;34m\u001b[0m\u001b[0m\n\u001b[0m\u001b[1;32m    537\u001b[0m         \u001b[0;32mif\u001b[0m \u001b[0;32mnot\u001b[0m \u001b[0mallow_nd\u001b[0m \u001b[0;32mand\u001b[0m \u001b[0marray\u001b[0m\u001b[0;34m.\u001b[0m\u001b[0mndim\u001b[0m \u001b[0;34m>=\u001b[0m \u001b[0;36m3\u001b[0m\u001b[0;34m:\u001b[0m\u001b[0;34m\u001b[0m\u001b[0m\n\u001b[1;32m    538\u001b[0m             raise ValueError(\"Found array with dim %d. %s expected <= 2.\"\n",
      "\u001b[0;31mTypeError\u001b[0m: float() argument must be a string or a number, not 'Timestamp'"
     ]
    }
   ],
   "source": [
    "#apply SelectKBest class to extract top 4 best features\n",
    "bestfeatures = SelectKBest(score_func=chi2, k=4)\n",
    "fit = bestfeatures.fit(X,y)\n",
    "dfscores = pd.DataFrame(fit.scores_)\n",
    "dfcolumns = pd.DataFrame(X.columns)\n",
    "#concat two dataframes for better visualization \n",
    "featureScores = pd.concat([dfcolumns,dfscores],axis=1)\n",
    "featureScores.columns = ['Specs','Score']  #naming the dataframe columns\n",
    "print(featureScores.nlargest(4,'Score'))  #print 10 best features"
   ]
  },
  {
   "cell_type": "code",
   "execution_count": null,
   "metadata": {},
   "outputs": [],
   "source": []
  },
  {
   "cell_type": "code",
   "execution_count": null,
   "metadata": {},
   "outputs": [],
   "source": []
  },
  {
   "cell_type": "code",
   "execution_count": null,
   "metadata": {},
   "outputs": [],
   "source": []
  },
  {
   "cell_type": "code",
   "execution_count": null,
   "metadata": {},
   "outputs": [],
   "source": []
  },
  {
   "cell_type": "code",
   "execution_count": null,
   "metadata": {},
   "outputs": [],
   "source": []
  },
  {
   "cell_type": "code",
   "execution_count": null,
   "metadata": {},
   "outputs": [],
   "source": []
  }
 ],
 "metadata": {
  "kernelspec": {
   "display_name": "Python 3",
   "language": "python",
   "name": "python3"
  },
  "language_info": {
   "codemirror_mode": {
    "name": "ipython",
    "version": 3
   },
   "file_extension": ".py",
   "mimetype": "text/x-python",
   "name": "python",
   "nbconvert_exporter": "python",
   "pygments_lexer": "ipython3",
   "version": "3.6.4"
  }
 },
 "nbformat": 4,
 "nbformat_minor": 2
}
